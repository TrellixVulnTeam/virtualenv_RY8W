{
 "cells": [
  {
   "cell_type": "code",
   "execution_count": 61,
   "metadata": {},
   "outputs": [
    {
     "name": "stdout",
     "output_type": "stream",
     "text": [
      "Ingrese su usuario: taller\n",
      "Ingrese su contraseña: 123\n",
      "200\n",
      "Has accedido exitosamente a la plataforma!\n",
      "Tu token de autentificación es: 5d61709912b53\n"
     ]
    }
   ],
   "source": [
    "# Login endpoint: http://demo.enlazza.cl:8000/login\n",
    "# POST user=taller & password=123\n",
    "# EJECUTAR LOGIN SOLO 1 VEZ XQ EL TOKEN CAMBIA CADA VEZ QUE ESTO SE EJECUTA\n",
    "\n",
    "import requests\n",
    "\n",
    "\n",
    "loginendpoint=\"http://demo.enlazza.cl:8000/login\"\n",
    "user = input('Ingrese su usuario: ')\n",
    "password = input('Ingrese su contraseña: ')\n",
    "token = ''\n",
    "credenciales = {'user':user, 'password':password}\n",
    "res = requests.post(loginendpoint, params=credenciales)\n",
    "print(res.status_code)\n",
    "res = res.json()\n",
    "\n",
    "if 'error' in res:\n",
    "    print(res['error'])\n",
    "else:\n",
    "    token = res['id']\n",
    "    print('Has accedido exitosamente a la plataforma!')\n",
    "    print('Tu token de autentificación es:', token)\n",
    "    \n"
   ]
  },
  {
   "cell_type": "code",
   "execution_count": 82,
   "metadata": {
    "scrolled": true
   },
   "outputs": [
    {
     "name": "stdout",
     "output_type": "stream",
     "text": [
      "200\n",
      "['Hola', 'Hola', '5d61506f2db14', 'Hola Todos!', 'Hola Todos 2', 'Ho hola soy Jerman', 'hola python_cs', 'Ho hola soy Jerman', 'Ho hola soy Jerman', 'SAPEEEEE', 'hola123', 'Me da rabia que no me dejaba conectarme a la API :(', 'hola python_cs2', 'wena soy german mi  rey ', 'no me funciona', 'Holi, como están?', 'hola soy jonathan', 'hola soy jonathan', 'miren el golazo de Charles https://www.emol.com/noticias/Deportes/2019/08/24/959067/Perfecto-control-de-pecho-y-un-canonazo-al-angulo-Mira-el-golazo-de-Charles-Aranguiez-en-el-triunfo-del-Leverkusen.html', 'quien quiere carrtetear?', 'quien quiere carrtetear?', 'jrfnejkfkerfn', 'Ho hola soy Jerman', 'wena soy german mi  rey ', 'asdasdasd', 'wena soy german mi  rey ', 'xd', 'FALTAN SUS CHELAS', 'jjfrjofj', 'toy cagao de hambre', 'xd', 'q', 'klk', 'QUIEN ME PRESTA 100 LUCAS', 'ahora si', 'Andrés', 'NUEVO MENSAJE']\n",
      "Hola\n",
      "Hola\n",
      "5d61506f2db14\n",
      "Hola Todos!\n",
      "Hola Todos 2\n",
      "Ho hola soy Jerman\n",
      "hola python_cs\n",
      "Ho hola soy Jerman\n",
      "Ho hola soy Jerman\n",
      "SAPEEEEE\n",
      "hola123\n",
      "Me da rabia que no me dejaba conectarme a la API :(\n",
      "hola python_cs2\n",
      "wena soy german mi  rey \n",
      "no me funciona\n",
      "Holi, como están?\n",
      "hola soy jonathan\n",
      "hola soy jonathan\n",
      "miren el golazo de Charles https://www.emol.com/noticias/Deportes/2019/08/24/959067/Perfecto-control-de-pecho-y-un-canonazo-al-angulo-Mira-el-golazo-de-Charles-Aranguiez-en-el-triunfo-del-Leverkusen.html\n",
      "quien quiere carrtetear?\n",
      "quien quiere carrtetear?\n",
      "jrfnejkfkerfn\n",
      "Ho hola soy Jerman\n",
      "wena soy german mi  rey \n",
      "asdasdasd\n",
      "wena soy german mi  rey \n",
      "xd\n",
      "FALTAN SUS CHELAS\n",
      "jjfrjofj\n",
      "toy cagao de hambre\n",
      "xd\n",
      "q\n",
      "klk\n",
      "QUIEN ME PRESTA 100 LUCAS\n",
      "ahora si\n",
      "Andrés\n",
      "NUEVO MENSAJE\n"
     ]
    }
   ],
   "source": [
    "# mensajes endpoint--> http://demo.enlazza.cl:8000/mensajes\n",
    "# GET \n",
    "# VER/LEER MENSAJES\n",
    "import requests\n",
    "\n",
    "mensajesEndpoint = 'http://demo.enlazza.cl:8000/mensajes'\n",
    "\n",
    "res = requests.get(mensajesEndpoint)\n",
    "print(res.status_code)\n",
    "res = res.json()\n",
    "print(res['mensajes'])\n",
    "\n",
    "for i in res['mensajes']:\n",
    "    print(i)\n"
   ]
  },
  {
   "cell_type": "code",
   "execution_count": 81,
   "metadata": {},
   "outputs": [
    {
     "name": "stdout",
     "output_type": "stream",
     "text": [
      "Ingrese mensaje: NUEVO MENSAJE\n",
      "{'status': 'OK', 'mensaje_id': '5d6174156f098'}\n",
      "su mensaje ha sido agregado exitosamente!\n",
      "Id mensaje: 5d6174156f098\n"
     ]
    }
   ],
   "source": [
    "# Agregar mensajes --> http://demo.enlazza.cl:8000/mensajes\n",
    "# POST mensaje=El mensaje & token=Token de autentificación\n",
    "\n",
    "import requests\n",
    "\n",
    "mensaje = input('Ingrese mensaje: ')\n",
    "mensajeEndpoint='http://demo.enlazza.cl:8000/mensajes'\n",
    "parametros = {'mensaje': mensaje, 'token':token}\n",
    "res = requests.post(mensajeEndpoint, params=parametros)\n",
    "res = res.json()\n",
    "\n",
    "print(res)\n",
    "\n",
    "if 'error' in res:\n",
    "    print(res['error'])\n",
    "else:\n",
    "    print('su mensaje ha sido agregado exitosamente!')\n",
    "    print('Id mensaje:', res['mensaje_id'])\n"
   ]
  },
  {
   "cell_type": "code",
   "execution_count": 77,
   "metadata": {},
   "outputs": [
    {
     "name": "stdout",
     "output_type": "stream",
     "text": [
      "{'status': 'Mensaje actualizado exitosamente'}\n",
      "su mensaje ha sido ACTUALIZADO exitosamente!\n"
     ]
    }
   ],
   "source": [
    "# editar mensaje endpoint -->  http://demo.enlazza.cl:8000/mensajes\n",
    "# PUT mensaje=nuevo mensaje & token=Token de auth & mensaje_id=id del mensaje\n",
    "\n",
    "import requests\n",
    "\n",
    "editarEndpointMensaje = 'http://demo.enlazza.cl:8000/mensajes'\n",
    "mensaje_id='5d6171eb5ab4'\n",
    "parametros = {'mensaje': 'EDITADO otra vez!!', 'mensaje_id':mensaje_id, 'token':token}\n",
    "res = requests.put(editarEndpointMensaje, params=parametros)\n",
    "res = res.json()\n",
    "\n",
    "print(res)\n",
    "if 'error' in res:\n",
    "    print(res['error'])\n",
    "else:\n",
    "    print('su mensaje ha sido ACTUALIZADO exitosamente!')\n",
    "    \n"
   ]
  },
  {
   "cell_type": "code",
   "execution_count": 79,
   "metadata": {},
   "outputs": [
    {
     "name": "stdout",
     "output_type": "stream",
     "text": [
      "{'status': 'Mensaje eliminado exitosamente'}\n",
      "su mensaje ha sido ELIMINADO exitosamente!\n"
     ]
    }
   ],
   "source": [
    "# BORRAR mensaje endpoint -->   http://demo.enlazza.cl:8000/mensajes          \n",
    "# DELETE token=Token de auth & mensaje_id=id del mensaje\n",
    "\n",
    "import requests\n",
    "\n",
    "borrarEndpointMensaje = 'http://demo.enlazza.cl:8000/mensajes'\n",
    "mensaje_id='5d6171eb5ab4'\n",
    "parametros = {'mensaje_id':mensaje_id, 'token':token}\n",
    "res = requests.delete(borrarEndpointMensaje, params=parametros)\n",
    "res = res.json()\n",
    "\n",
    "print(res)\n",
    "if 'error' in res:\n",
    "    print(res['error'])\n",
    "else:\n",
    "    print('su mensaje ha sido ELIMINADO exitosamente!')\n",
    "   "
   ]
  },
  {
   "cell_type": "code",
   "execution_count": null,
   "metadata": {},
   "outputs": [],
   "source": []
  }
 ],
 "metadata": {
  "kernelspec": {
   "display_name": "Python 3",
   "language": "python",
   "name": "python3"
  },
  "language_info": {
   "codemirror_mode": {
    "name": "ipython",
    "version": 3
   },
   "file_extension": ".py",
   "mimetype": "text/x-python",
   "name": "python",
   "nbconvert_exporter": "python",
   "pygments_lexer": "ipython3",
   "version": "3.6.8"
  }
 },
 "nbformat": 4,
 "nbformat_minor": 2
}
